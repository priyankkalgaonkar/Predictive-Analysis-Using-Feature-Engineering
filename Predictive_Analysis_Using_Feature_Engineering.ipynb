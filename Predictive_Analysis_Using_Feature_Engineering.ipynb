{
  "nbformat": 4,
  "nbformat_minor": 0,
  "metadata": {
    "colab": {
      "name": "Predictive Analysis Using Feature Engineering.ipynb",
      "provenance": [],
      "collapsed_sections": [],
      "include_colab_link": true
    },
    "kernelspec": {
      "name": "python3",
      "display_name": "Python 3"
    }
  },
  "cells": [
    {
      "cell_type": "markdown",
      "metadata": {
        "id": "view-in-github",
        "colab_type": "text"
      },
      "source": [
        "<a href=\"https://colab.research.google.com/github/priyankkalgaonkar/Predictive-Analysis-Using-Feature-Engineering/blob/master/Predictive_Analysis_Using_Feature_Engineering.ipynb\" target=\"_parent\"><img src=\"https://colab.research.google.com/assets/colab-badge.svg\" alt=\"Open In Colab\"/></a>"
      ]
    },
    {
      "cell_type": "markdown",
      "metadata": {
        "id": "ldHWYLfbUptN",
        "colab_type": "text"
      },
      "source": [
        "# Predicting Sales"
      ]
    },
    {
      "cell_type": "markdown",
      "metadata": {
        "id": "elIUkIZsVKml",
        "colab_type": "text"
      },
      "source": [
        "Dataset of 1559 products across 10 stores (13 columns)\n",
        "\n"
      ]
    },
    {
      "cell_type": "code",
      "metadata": {
        "id": "81G7j9xLOqUZ",
        "colab_type": "code",
        "colab": {}
      },
      "source": [
        "#Download database files (Train and Test) to Google Colab Notebook\n",
        "!wget --no-check-certificate \\\n",
        "\"https://datahack-prod.s3.amazonaws.com/train_file/Train_UWu5bXk.csv\" \\\n",
        "-O \"/srv/train.csv\"\n",
        "\n",
        "!wget --no-check-certificate \\\n",
        "\"https://datahack-prod.s3.amazonaws.com/test_file/Test_u94Q5KV.csv\" \\\n",
        "-O \"/srv/test.csv\""
      ],
      "execution_count": 0,
      "outputs": []
    },
    {
      "cell_type": "code",
      "metadata": {
        "id": "cLc2gIgCQuWL",
        "colab_type": "code",
        "colab": {}
      },
      "source": [
        "import pandas as pd\n",
        "train=pd.read_csv('/srv/train.csv') #Loading train.csv\n",
        "test=pd.read_csv('/srv/test.csv')  #Loading test.csv"
      ],
      "execution_count": 0,
      "outputs": []
    },
    {
      "cell_type": "code",
      "metadata": {
        "id": "ilbJyDDHWoYA",
        "colab_type": "code",
        "colab": {}
      },
      "source": [
        "train.head(4) #Checking if train.csv has data"
      ],
      "execution_count": 0,
      "outputs": []
    },
    {
      "cell_type": "code",
      "metadata": {
        "colab_type": "code",
        "id": "op86WcTrpEJM",
        "colab": {}
      },
      "source": [
        "test.head(5) #Checking if test.csv has data"
      ],
      "execution_count": 0,
      "outputs": []
    },
    {
      "cell_type": "code",
      "metadata": {
        "id": "bnWvTh1tXSHA",
        "colab_type": "code",
        "colab": {}
      },
      "source": [
        "train.isnull().sum() #Finding Null Values in train.csv"
      ],
      "execution_count": 0,
      "outputs": []
    },
    {
      "cell_type": "code",
      "metadata": {
        "id": "lo7ORFQHXuOi",
        "colab_type": "code",
        "colab": {}
      },
      "source": [
        "test.isnull().sum() #Finding Null Values in test.csv"
      ],
      "execution_count": 0,
      "outputs": []
    },
    {
      "cell_type": "markdown",
      "metadata": {
        "id": "O9hUFv2AY6wc",
        "colab_type": "text"
      },
      "source": [
        "Since we have null values in `Item_Weight` and `Outlet_Size` columns in both: train and test files, we will fill the `Item_Weight` gaps with the average weight and `Outlet_Size` with `unknown` value."
      ]
    },
    {
      "cell_type": "code",
      "metadata": {
        "id": "-24CtVAwbYiS",
        "colab_type": "code",
        "colab": {}
      },
      "source": [
        "#Filling Null Values in train.csv\n",
        "train['Item_Weight'].fillna(value=test['Item_Weight'].mean(),inplace=True)\n",
        "test['Outlet_Size'].fillna(value='Unknown', inplace=True)\n",
        "\n",
        "#Filling Null Values in test.csv\n",
        "train['Item_Weight'].fillna(value=test['Item_Weight'].mean(),inplace=True)\n",
        "test['Outlet_Size'].fillna(value='Unknown', inplace=True)\n",
        "\n",
        "#We'll now check to verify if all Null Values have been filled\n",
        "train.isnull().sum() #Check Train DB"
      ],
      "execution_count": 0,
      "outputs": []
    },
    {
      "cell_type": "code",
      "metadata": {
        "id": "ej2o1yv9eO5H",
        "colab_type": "code",
        "colab": {}
      },
      "source": [
        "test.isnull().sum() #Check Test DB"
      ],
      "execution_count": 0,
      "outputs": []
    },
    {
      "cell_type": "code",
      "metadata": {
        "colab_type": "code",
        "id": "9d0g3o9WqA7R",
        "cellView": "both",
        "colab": {}
      },
      "source": [
        "import numpy as np\n",
        "import matplotlib.pyplot as plot\n",
        "plot.bar(train['Item_Type'].value_counts().index, \\\n",
        "         train['Item_Type'].value_counts(), width=0.5, bottom=None, \\\n",
        "         align='center', data=train)\n",
        "plot.title('Graph for Train.csv')\n",
        "plot.xticks(rotation='vertical')\n",
        "plot.xlabel('Item_Type')\n",
        "plot.ylabel('Count')\n",
        "print('Item_Type:\\n', train['Item_Type'].value_counts())"
      ],
      "execution_count": 0,
      "outputs": []
    },
    {
      "cell_type": "code",
      "metadata": {
        "id": "ovKjxTD0w226",
        "colab_type": "code",
        "colab": {}
      },
      "source": [
        "#Using item identifier, we categorize 'Item_Type' into Non Consumables, Drinks and Foods\n",
        "def item_identify(cols):\n",
        "  item_id=cols[0]\n",
        "  item_type=cols[1]\n",
        "\n",
        "  if item_id[:2] == 'NC':\n",
        "    return 'Non Consumables'\n",
        "  elif item_id[:2] == 'DR':\n",
        "    return 'Drinks'\n",
        "  else:\n",
        "    return 'Foods'"
      ],
      "execution_count": 0,
      "outputs": []
    },
    {
      "cell_type": "code",
      "metadata": {
        "id": "d5q7G-N4PQR5",
        "colab_type": "code",
        "colab": {}
      },
      "source": [
        "train['Item_Type']=train[['Item_Identifier','Item_Type']].apply(item_identify,axis=1)\n",
        "test['Item_Type']=test[['Item_Identifier','Item_Type']].apply(item_identify,axis=1)"
      ],
      "execution_count": 0,
      "outputs": []
    },
    {
      "cell_type": "code",
      "metadata": {
        "id": "reCG_xX1PXhr",
        "colab_type": "code",
        "colab": {}
      },
      "source": [
        "train['Item_Type'].value_counts()\n",
        "\n",
        "import numpy as np\n",
        "import matplotlib.pyplot as plt\n",
        "plt.bar(train['Item_Type'].value_counts().index, train['Item_Type'].value_counts(), width=0.5, bottom=None, align='center', data=train)\n",
        "plt.title('Item_Type Distribution')\n",
        "#plt.xticks(rotation='vertical')\n",
        "plt.xlabel('Item_Type')\n",
        "plt.ylabel('Frequency')\n",
        "print('Item_Type:\\n',train['Item_Type'].value_counts())"
      ],
      "execution_count": 0,
      "outputs": []
    },
    {
      "cell_type": "code",
      "metadata": {
        "id": "7nEas2AoQPwL",
        "colab_type": "code",
        "colab": {}
      },
      "source": [
        "import numpy as np\n",
        "import matplotlib.pyplot as plt\n",
        "plt.bar(train['Item_Fat_Content'].value_counts().index, train['Item_Fat_Content'].value_counts(), width=0.5, bottom=None, align='center', data=train)\n",
        "plt.title('Item_Fat_Content Distribution')\n",
        "plt.xlabel('Item_Fat_Content')\n",
        "plt.ylabel('Frequency')\n",
        "print('Item_Fat_Content:\\n',train['Item_Fat_Content'].value_counts())"
      ],
      "execution_count": 0,
      "outputs": []
    },
    {
      "cell_type": "code",
      "metadata": {
        "id": "Od-PQKEkQp37",
        "colab_type": "code",
        "colab": {}
      },
      "source": [
        "# filtering some of the items that are non consumables\n",
        "def item_fat(cols):\n",
        "  fat=cols[0]\n",
        "  typ=cols[1]\n",
        "  \n",
        "  if (fat=='Low Fat' or fat=='LF' or fat=='low fat') and (typ=='Foods' or typ=='Drinks'):\n",
        "    return 'Low Fat'\n",
        "  elif (fat=='Regular' or fat=='reg') and (typ=='Foods' or typ=='Drinks'):\n",
        "    return 'Regular'\n",
        "  else:\n",
        "    return 'Non Edible'"
      ],
      "execution_count": 0,
      "outputs": []
    },
    {
      "cell_type": "code",
      "metadata": {
        "id": "ZdTGlj7oQ5Lh",
        "colab_type": "code",
        "colab": {}
      },
      "source": [
        "train['Item_Fat_Content']=train[['Item_Fat_Content','Item_Type']].apply(item_fat,axis=1)\n",
        "test['Item_Fat_Content']=test[['Item_Fat_Content','Item_Type']].apply(item_fat,axis=1)"
      ],
      "execution_count": 0,
      "outputs": []
    },
    {
      "cell_type": "code",
      "metadata": {
        "id": "50BUT6N5RE7j",
        "colab_type": "code",
        "colab": {}
      },
      "source": [
        "import numpy as np\n",
        "import matplotlib.pyplot as plt\n",
        "plt.bar(train['Item_Fat_Content'].unique(), train['Item_Fat_Content'].value_counts(), width=0.5, bottom=None, align='center', data=train)\n",
        "plt.title('Item_Fat_Content Distribution')\n",
        "plt.xlabel('Item_Fat_Content')\n",
        "plt.ylabel('Frequency')\n",
        "print('Item_Fat_Content:\\n',train['Item_Fat_Content'].value_counts())"
      ],
      "execution_count": 0,
      "outputs": []
    },
    {
      "cell_type": "code",
      "metadata": {
        "id": "f8gQDwwWRXO1",
        "colab_type": "code",
        "colab": {}
      },
      "source": [
        "train['Outlet_Size'].value_counts()\n",
        "import numpy as np\n",
        "import matplotlib.pyplot as plt\n",
        "plt.bar(train['Outlet_Size'].value_counts().index, train['Outlet_Size'].value_counts(), width=0.5, bottom=None, align='center', data=train)\n",
        "plt.title('Outlet_Size')\n",
        "#plt.xticks(rotation='vertical')\n",
        "plt.xlabel('Outlet_Size')\n",
        "plt.ylabel('Frequency')"
      ],
      "execution_count": 0,
      "outputs": []
    },
    {
      "cell_type": "code",
      "metadata": {
        "id": "-TOeWc-KRo2w",
        "colab_type": "code",
        "colab": {}
      },
      "source": [
        "train['Outlet_Location_Type'].value_counts()\n",
        "import numpy as np\n",
        "import matplotlib.pyplot as plt\n",
        "plt.bar(train['Outlet_Location_Type'].value_counts().index, train['Outlet_Location_Type'].value_counts(), width=0.5, bottom=None, align='center', data=train)\n",
        "plt.title('Outlet_Location_Type Distribution')\n",
        "#plt.xticks(rotation='vertical')\n",
        "plt.xlabel('Outlet_Location_Type')\n",
        "plt.ylabel('Frequency')"
      ],
      "execution_count": 0,
      "outputs": []
    },
    {
      "cell_type": "code",
      "metadata": {
        "id": "GRqTsFxTRxQ2",
        "colab_type": "code",
        "colab": {}
      },
      "source": [
        "train['Item_Visibility'].value_counts().head(3)"
      ],
      "execution_count": 0,
      "outputs": []
    },
    {
      "cell_type": "code",
      "metadata": {
        "id": "JT-Troc1R_fk",
        "colab_type": "code",
        "colab": {}
      },
      "source": [
        "#The column 'Item_Visibility' has lots of 0 values\n",
        "train['Item_Visibility'].mask(train['Item_Visibility']== 0,train['Item_Visibility'].mean(),inplace=True)\n",
        "test['Item_Visibility'].mask(test['Item_Visibility']== 0,test['Item_Visibility'].mean(),inplace=True)"
      ],
      "execution_count": 0,
      "outputs": []
    },
    {
      "cell_type": "code",
      "metadata": {
        "id": "8Fx20FPjSMLV",
        "colab_type": "code",
        "colab": {}
      },
      "source": [
        "def num_years(col):\n",
        "  return 2013-col"
      ],
      "execution_count": 0,
      "outputs": []
    },
    {
      "cell_type": "code",
      "metadata": {
        "id": "3GSU2IlxSQwZ",
        "colab_type": "code",
        "colab": {}
      },
      "source": [
        "train['Years_of_Operation']=train['Outlet_Establishment_Year'].apply(num_years)\n",
        "test['Years_of_Operation']=test['Outlet_Establishment_Year'].apply(num_years)"
      ],
      "execution_count": 0,
      "outputs": []
    },
    {
      "cell_type": "code",
      "metadata": {
        "id": "81246wfYSVEa",
        "colab_type": "code",
        "colab": {}
      },
      "source": [
        "item_fat_content=pd.get_dummies(train['Item_Fat_Content'])\n",
        "item_type=pd.get_dummies(train['Item_Type'])\n",
        "outlet_size=pd.get_dummies(train['Outlet_Size'])\n",
        "outlet_location_type=pd.get_dummies(train['Outlet_Location_Type'])\n",
        "output_type=pd.get_dummies(train['Outlet_Type'])\n",
        "\n",
        "item_fat_content_test=pd.get_dummies(test['Item_Fat_Content'])\n",
        "item_type_test=pd.get_dummies(test['Item_Type'])\n",
        "outlet_size_test=pd.get_dummies(test['Outlet_Size'])\n",
        "outlet_location_type_test=pd.get_dummies(test['Outlet_Location_Type'])\n",
        "output_type_test=pd.get_dummies(test['Outlet_Type'])"
      ],
      "execution_count": 0,
      "outputs": []
    },
    {
      "cell_type": "code",
      "metadata": {
        "id": "QM1bSm_qSjNo",
        "colab_type": "code",
        "colab": {}
      },
      "source": [
        "train=pd.concat([train,item_fat_content,item_type,outlet_size,outlet_location_type,output_type],axis=1)\n",
        "train.drop(['Item_Identifier','Item_Fat_Content','Item_Type','Outlet_Identifier','Outlet_Establishment_Year','Outlet_Size', 'Outlet_Location_Type',\n",
        "       'Outlet_Type'],axis=1,inplace=True)\n",
        "test=pd.concat([test,item_fat_content_test,item_type_test,outlet_size_test,outlet_location_type_test,output_type_test],axis=1)\n",
        "test.drop(['Item_Identifier','Item_Fat_Content','Item_Type','Outlet_Identifier','Outlet_Establishment_Year','Outlet_Size', 'Outlet_Location_Type',\n",
        "       'Outlet_Type'],axis=1,inplace=True)"
      ],
      "execution_count": 0,
      "outputs": []
    },
    {
      "cell_type": "code",
      "metadata": {
        "id": "tVxf3iYpSvuu",
        "colab_type": "code",
        "colab": {}
      },
      "source": [
        "x=train.drop(['Item_Outlet_Sales'],axis=1)\n",
        "y=train['Item_Outlet_Sales']\n",
        "x_test=test"
      ],
      "execution_count": 0,
      "outputs": []
    },
    {
      "cell_type": "code",
      "metadata": {
        "id": "qyqKrQIgSzO2",
        "colab_type": "code",
        "colab": {}
      },
      "source": [
        "from sklearn.preprocessing import StandardScaler\n",
        "sc_x=StandardScaler()\n",
        "x=sc_x.fit_transform(x)\n",
        "\n",
        "x_test=sc_x.fit_transform(x_test)"
      ],
      "execution_count": 0,
      "outputs": []
    },
    {
      "cell_type": "code",
      "metadata": {
        "id": "msnQzMn8S2sP",
        "colab_type": "code",
        "colab": {}
      },
      "source": [
        "from sklearn.model_selection import train_test_split\n",
        "x_train,x_val,y_train,y_val=train_test_split(x,y,test_size=0.1,random_state=42)"
      ],
      "execution_count": 0,
      "outputs": []
    },
    {
      "cell_type": "code",
      "metadata": {
        "id": "M4Eperc9S6oM",
        "colab_type": "code",
        "colab": {}
      },
      "source": [
        "from sklearn.linear_model import LinearRegression\n",
        "lm=LinearRegression()\n",
        "lm.fit(x_train,y_train)"
      ],
      "execution_count": 0,
      "outputs": []
    },
    {
      "cell_type": "code",
      "metadata": {
        "id": "64a1dio0TDgj",
        "colab_type": "code",
        "colab": {}
      },
      "source": [
        "predictions=lm.predict(x_val)"
      ],
      "execution_count": 0,
      "outputs": []
    },
    {
      "cell_type": "code",
      "metadata": {
        "id": "VLKQYK2_TE68",
        "colab_type": "code",
        "colab": {}
      },
      "source": [
        "plot.scatter(y_val,predictions)"
      ],
      "execution_count": 0,
      "outputs": []
    },
    {
      "cell_type": "code",
      "metadata": {
        "id": "t1m44CxuTOEG",
        "colab_type": "code",
        "colab": {}
      },
      "source": [
        "import seaborn as sns\n",
        "sns.distplot((y_val-predictions))"
      ],
      "execution_count": 0,
      "outputs": []
    },
    {
      "cell_type": "code",
      "metadata": {
        "id": "BL2d4YN9TT6s",
        "colab_type": "code",
        "colab": {}
      },
      "source": [
        "import numpy as np\n",
        "from sklearn import metrics\n",
        "print('Mean Absolute Error: ',metrics.mean_absolute_error(y_val,predictions))\n",
        "print('Mean Squared Error: ',metrics.mean_squared_error(y_val,predictions))\n",
        "print('Root Mean Squared Error: ',np.sqrt(metrics.mean_squared_error(y_val,predictions)))\n",
        "print('Explained Variance Score: ',metrics.explained_variance_score(y_val,predictions))"
      ],
      "execution_count": 0,
      "outputs": []
    },
    {
      "cell_type": "code",
      "metadata": {
        "id": "DRwcVXWblt4H",
        "colab_type": "code",
        "colab": {}
      },
      "source": [
        "plt.figure(figsize=(12,7))\n",
        "plt.xlabel(\"Item_Weight\")\n",
        "plt.ylabel(\"Item_Outlet_Sales\")\n",
        "plt.title(\"Item_Weight and Item_Outlet_Sales Analysis\")\n",
        "plt.plot(train.Item_Weight, train[\"Item_Outlet_Sales\"],'.', alpha = 0.3)"
      ],
      "execution_count": 0,
      "outputs": []
    },
    {
      "cell_type": "code",
      "metadata": {
        "id": "ZrwYcmz1pl7W",
        "colab_type": "code",
        "colab": {}
      },
      "source": [
        "plt.figure(figsize=(12,7))\n",
        "plt.xlabel(\"Item_Visibility\")\n",
        "plt.ylabel(\"Item_Outlet_Sales\")\n",
        "plt.title(\"Item_Visibility and Item_Outlet_Sales Analysis\")\n",
        "plt.plot(train.Item_Visibility, train[\"Item_Outlet_Sales\"],'.', alpha = 0.3)"
      ],
      "execution_count": 0,
      "outputs": []
    },
    {
      "cell_type": "markdown",
      "metadata": {
        "id": "-dYORntm2m-y",
        "colab_type": "text"
      },
      "source": [
        "# New Section"
      ]
    }
  ]
}